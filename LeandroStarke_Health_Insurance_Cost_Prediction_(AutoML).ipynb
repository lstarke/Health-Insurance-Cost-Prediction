{
  "nbformat": 4,
  "nbformat_minor": 0,
  "metadata": {
    "colab": {
      "provenance": [],
      "toc_visible": true,
      "authorship_tag": "ABX9TyMJo4MH985wl25HCENQpyad",
      "include_colab_link": true
    },
    "kernelspec": {
      "name": "python3",
      "display_name": "Python 3"
    },
    "language_info": {
      "name": "python"
    }
  },
  "cells": [
    {
      "cell_type": "markdown",
      "metadata": {
        "id": "view-in-github",
        "colab_type": "text"
      },
      "source": [
        "<a href=\"https://colab.research.google.com/github/lstarke/Health-Insurance-Cost-Prediction/blob/main/LeandroStarke_Health_Insurance_Cost_Prediction_(AutoML).ipynb\" target=\"_parent\"><img src=\"https://colab.research.google.com/assets/colab-badge.svg\" alt=\"Open In Colab\"/></a>"
      ]
    },
    {
      "cell_type": "markdown",
      "source": [
        "# Business Understanding"
      ],
      "metadata": {
        "id": "b20Uju7Wjqvs"
      }
    },
    {
      "cell_type": "markdown",
      "source": [
        "## Sobre o problema - Health Insurance Cost\n",
        "\n",
        "<center><img src=\"https://drive.google.com/uc?export=view&id=1vwwSzYFJxMxSEtPktnq96J6y3H1hAmX0\" width=\"80%\"></p></center>\n",
        "\n",
        "Neste projeto será utilizado um dataset disponivel no Kaggle chamado [Health Insurance Cost Prediction](https://www.kaggle.com/datasets/annetxu/health-insurance-cost-prediction). Nele temos informações sobre pacientes de um plano de saúde e seus respectivos custos médicos. Ele inclui 1338 entradas com 7 variáveis:\n",
        "\n",
        "* `age`: idade do paciente\n",
        "* `sex`: gênero do paciente (masculino ou feminino)\n",
        "* `bmi`: Índice de Massa Corporal (IMC) do paciente\n",
        "* `children`: número de filhos dependentes do paciente\n",
        "* `smoker`: informação se o paciente é fumante ou não\n",
        "* `region`: região dos Estados Unidos em que o paciente reside (nordeste, sudeste, sudoeste ou noroeste)\n",
        "* `charges`: custo médico individual do paciente durante um ano\n",
        "\n",
        "O objetivo do conjunto de dados é prever o custo médico de um paciente com base em suas características pessoais, um problema de regressão, onde a variável alvo é `charges`.\n",
        "\n",
        "Esse conjunto de dados é interessante porque pode ajudar a compreender como as características pessoais de um paciente podem influenciar nos custos médicos. Além disso, ele pode ser utilizado para criar modelos de precificação de seguros de saúde ou para identificar pacientes com alto risco de custos médicos."
      ],
      "metadata": {
        "id": "o8y0adV6kb63"
      }
    },
    {
      "cell_type": "markdown",
      "source": [
        "## Sobre Auto Machine Learning (AutoML)\n",
        "\n",
        "<center><img src=\"https://drive.google.com/uc?export=view&id=1vB46w2YoEmLKSpxqx4aRh2wbZOM_TTk7\" width=\"80%\"></p></center>\n",
        "\n",
        "Uma ferramenta útil para cientistas de dados e desenvolvedores que desejam criar rapidamente modelos de aprendizado de máquina e acelerar o processo de experimentação de modelos.\n",
        "\n",
        "PyCaret é uma biblioteca de auto machine learning (AutoML) de código aberto que visa simplificar o processo de criação de modelos de aprendizado de máquina. Ela fornece uma interface de usuário intuitiva e fácil de usar para realizar tarefas comuns de ciência de dados, como pré-processamento de dados, seleção de recursos, validação cruzada e ajuste de hiperparâmetros.\n",
        "\n",
        "Com o PyCaret, é possível construir rapidamente vários modelos de aprendizado de máquina, desde modelos de regressão e classificação até modelos de clustering e detecção de anomalias. Além disso, a biblioteca inclui recursos como a criação de fluxos de trabalho de ponta a ponta, seleção automática de recursos e explicações de modelo."
      ],
      "metadata": {
        "id": "gS9xu8mMnUXC"
      }
    },
    {
      "cell_type": "markdown",
      "source": [
        "# Instalação de pacotes"
      ],
      "metadata": {
        "id": "6BeXNr20x3AW"
      }
    },
    {
      "cell_type": "code",
      "execution_count": 1,
      "metadata": {
        "id": "RmtIQBwyiQLI"
      },
      "outputs": [],
      "source": [
        "# descomentar linhas abaixo quando rodar a primeira vez\n",
        "# !pip install matplotlib==3.6.3\n",
        "# !pip install -U pandas-profiling\n",
        "# !pip install pycaret -q"
      ]
    },
    {
      "cell_type": "markdown",
      "source": [
        "# Importação de pacotes"
      ],
      "metadata": {
        "id": "ibGiB4zsyC8C"
      }
    },
    {
      "cell_type": "code",
      "source": [
        "# importar os pacotes necessários\n",
        "import pandas as pd\n",
        "import numpy as np\n",
        "import matplotlib.pyplot as plt\n",
        "\n",
        "from pandas_profiling import ProfileReport\n",
        "from sklearn.preprocessing import KBinsDiscretizer\n",
        "from pycaret.utils import enable_colab \n",
        "\n",
        "\n",
        "# habilitando o pycaret no colab\n",
        "enable_colab()"
      ],
      "metadata": {
        "id": "zwtYdqB7yG4n"
      },
      "execution_count": null,
      "outputs": []
    },
    {
      "cell_type": "markdown",
      "source": [
        "# Data Understanding"
      ],
      "metadata": {
        "id": "Z6DvRddKjvt4"
      }
    },
    {
      "cell_type": "code",
      "source": [
        "# importar os dados\n",
        "DATA_PATH = \"/content/insurance.csv\"\n",
        "df = pd.read_csv(DATA_PATH)\n",
        "\n",
        "# ver as 5 primeiras entradas\n",
        "df.head()"
      ],
      "metadata": {
        "id": "tl4WvJfdjwEV"
      },
      "execution_count": null,
      "outputs": []
    },
    {
      "cell_type": "code",
      "source": [
        "# inspecionando quantidade de linhas e colunas do DataFrame\n",
        "df.shape"
      ],
      "metadata": {
        "id": "QsTZzQof3Zo-"
      },
      "execution_count": null,
      "outputs": []
    },
    {
      "cell_type": "code",
      "source": [
        "profile = ProfileReport(df, title=\"Insurance EDA\")\n",
        "profile"
      ],
      "metadata": {
        "id": "cj_jmjUc3ndd"
      },
      "execution_count": null,
      "outputs": []
    },
    {
      "cell_type": "markdown",
      "source": [
        "## Conclusões Pandas Profiling\n",
        "\n",
        "\n",
        "\n",
        "* Não há dados falstantes no DataFrame;\n",
        "* Idade mínima e máxima são 18 e 64, respectivamente;\n",
        "* Há uma maior concentração de pessoas com idade abaixo de 20 anos;\n",
        "* A porporção de sexo masculino e feminino varia somente 1%;\n",
        "* A distribuição da variável `bmi` (IMC) é normal;\n",
        "* A distribuição da variável `children` é assimétrica positiva;\n",
        "* Aproximadamente 43% das pessoas não tem filhos;\n",
        "* 20% das pessoas são fumantes;\n",
        "* A distribuição da variável `charges` é assimétrica positiva;\n",
        "\n",
        "\n",
        "\n",
        "\n"
      ],
      "metadata": {
        "id": "qFpeGJFS4Wp6"
      }
    },
    {
      "cell_type": "markdown",
      "source": [
        "# Data Preparation"
      ],
      "metadata": {
        "id": "2OpDS9Pcj2kR"
      }
    },
    {
      "cell_type": "markdown",
      "source": [
        "## KBinsDiscretizer\n",
        "\n",
        "KBinsDiscretizer é um transformador de pré-processamento de dados da biblioteca scikit-learn (sklearn.preprocessing) que divide determinada feature em intervalos (bins) discretos e categóricos com base em um número especificado de bins. \n",
        "\n",
        "Isso pode ser útil em algumas situações em que você deseja converter uma característica contínua em uma característica categórica. Por exemplo, se você estiver trabalhando com dados de idade, pode ser interessante discretizar as idades em faixas etárias (por exemplo, 0-10, 10-20, 20-30, etc.) em vez de manter a idade como uma característica contínua.\n",
        "\n",
        "O KBinsDiscretizer usa a estratégia de \"uniform\" ou \"quantile\" para definir os limites dos bins. Quando a estratégia é \"uniform\", todos os bins têm a mesma largura. Quando a estratégia é \"quantile\", cada bin contém aproximadamente o mesmo número de amostras.\n",
        "\n",
        "Definimos o parâmetro encode como ordinal, assim, cada bin é representado por um único número inteiro, que indica a ordem do bin. A primeira ordem é 0, a segunda ordem é 1, e assim por diante. Cada característica original é substituída por um vetor de números inteiros correspondente aos bins discretizados. Essa opção é útil quando existe uma relação ordinal entre os bins."
      ],
      "metadata": {
        "id": "U1mXxRWoF8aA"
      }
    },
    {
      "cell_type": "code",
      "source": [
        "# definindo o número de intervalos\n",
        "n_bins = 3\n",
        "\n",
        "# criando o objeto KBinsDiscretizer\n",
        "discretizer = KBinsDiscretizer(n_bins=n_bins, encode='ordinal', strategy='quantile')\n",
        "\n",
        "# atribuindo uma nova coluna ao DataFrame contendo o identificador do grupo ao qual a pessoa pertence\n",
        "df = df.assign(age_discretized = discretizer.fit_transform(df.age.values.reshape(-1, 1)))\n",
        "df.head()"
      ],
      "metadata": {
        "id": "vMJBV7UzFjkv"
      },
      "execution_count": null,
      "outputs": []
    },
    {
      "cell_type": "markdown",
      "source": [
        "Abaixo podemos ver melhor o que o KBinsDiscretizer faz.\n",
        "\n",
        "1. Grupo 1: Somente pessoas com idade entre 18 e 30 anos;\n",
        "2. Grupo 2: Somente pessoas com idade entre 31 e 46 anos;\n",
        "3. Grupo 3: Somente pessoas com idade entre 47 e 64 anos;\n",
        "\n"
      ],
      "metadata": {
        "id": "CU7R8Sl5LnJN"
      }
    },
    {
      "cell_type": "code",
      "source": [
        "# verificando valores unicos na coluna age_discretized\n",
        "bins = df.age_discretized.unique()\n",
        "\n",
        "# laço sobre a lista de bins e imprimindo os valores mínmos e máximos encontrados dentro de cada bin\n",
        "for bin in bins:\n",
        "  print(f\"bin = {int(bin)}: {df[df.age_discretized == bin].age.min()} - {df[df.age_discretized == bin].age.max()}\")"
      ],
      "metadata": {
        "id": "c-Js4qDRFjim"
      },
      "execution_count": null,
      "outputs": []
    },
    {
      "cell_type": "code",
      "source": [
        "# instanciando os objetos fig e ax\n",
        "fig, ax = plt.subplots(figsize=(10, 6))\n",
        "\n",
        "# criando um gráfico de barras com a contagem de pessoas em cada intervalo de age_discretized\n",
        "df.age_discretized.value_counts().plot(kind=\"bar\", ax=ax)\n",
        "\n",
        "# colocando a quantidade em cada intervalo\n",
        "for c in ax.containers:\n",
        "  ax.bar_label(c, label_type=\"center\")\n",
        "  \n",
        "# ajusta o layout do gráfico para garantir que todos os elementos estejam visíveis\n",
        "plt.tight_layout()"
      ],
      "metadata": {
        "id": "r1t1HessFjgK"
      },
      "execution_count": null,
      "outputs": []
    },
    {
      "cell_type": "markdown",
      "source": [
        "Temos uma distrição muito parecida entre os grupos de ```age_discretized```."
      ],
      "metadata": {
        "id": "OpEeBbweOBY5"
      }
    },
    {
      "cell_type": "code",
      "source": [],
      "metadata": {
        "id": "Kk2DbNH7Fjdu"
      },
      "execution_count": null,
      "outputs": []
    },
    {
      "cell_type": "code",
      "source": [],
      "metadata": {
        "id": "neJggAaTFjay"
      },
      "execution_count": null,
      "outputs": []
    },
    {
      "cell_type": "code",
      "source": [
        "# separando os dados em teste e treino\n",
        "test = df.sample(frac=0.10)\n",
        "train = df.drop(test.index)\n",
        "\n",
        "test.reset_index(inplace=True, drop=True)\n",
        "train.reset_index(inplace=True, drop=True)"
      ],
      "metadata": {
        "id": "gx6v3F9Kj3Ax"
      },
      "execution_count": null,
      "outputs": []
    },
    {
      "cell_type": "markdown",
      "source": [
        "# Modeling"
      ],
      "metadata": {
        "id": "7qG9FcrLj8TR"
      }
    },
    {
      "cell_type": "code",
      "source": [],
      "metadata": {
        "id": "Iq6QoyJ9j8wd"
      },
      "execution_count": null,
      "outputs": []
    },
    {
      "cell_type": "markdown",
      "source": [
        "# Evaluation"
      ],
      "metadata": {
        "id": "CVLVKV7CkC1n"
      }
    },
    {
      "cell_type": "code",
      "source": [],
      "metadata": {
        "id": "mosoFI5PkDRB"
      },
      "execution_count": null,
      "outputs": []
    },
    {
      "cell_type": "markdown",
      "source": [
        "# Conclusões"
      ],
      "metadata": {
        "id": "xWbwSNtykIJ-"
      }
    },
    {
      "cell_type": "code",
      "source": [],
      "metadata": {
        "id": "9_ssSg8xkIf8"
      },
      "execution_count": null,
      "outputs": []
    },
    {
      "cell_type": "markdown",
      "source": [
        "# Referências"
      ],
      "metadata": {
        "id": "7hT0QT70kKYC"
      }
    },
    {
      "cell_type": "code",
      "source": [],
      "metadata": {
        "id": "edFByLS3kKwk"
      },
      "execution_count": null,
      "outputs": []
    }
  ]
}