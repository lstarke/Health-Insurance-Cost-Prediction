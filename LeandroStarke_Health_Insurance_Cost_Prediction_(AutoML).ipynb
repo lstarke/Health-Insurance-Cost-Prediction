{
  "nbformat": 4,
  "nbformat_minor": 0,
  "metadata": {
    "colab": {
      "provenance": [],
      "authorship_tag": "ABX9TyNR/Adlz8P7iu+D573AkWFL",
      "include_colab_link": true
    },
    "kernelspec": {
      "name": "python3",
      "display_name": "Python 3"
    },
    "language_info": {
      "name": "python"
    }
  },
  "cells": [
    {
      "cell_type": "markdown",
      "metadata": {
        "id": "view-in-github",
        "colab_type": "text"
      },
      "source": [
        "<a href=\"https://colab.research.google.com/github/lstarke/Health-Insurance-Cost-Prediction/blob/main/LeandroStarke_Health_Insurance_Cost_Prediction_(AutoML).ipynb\" target=\"_parent\"><img src=\"https://colab.research.google.com/assets/colab-badge.svg\" alt=\"Open In Colab\"/></a>"
      ]
    },
    {
      "cell_type": "markdown",
      "source": [
        "# Business Understanding"
      ],
      "metadata": {
        "id": "b20Uju7Wjqvs"
      }
    },
    {
      "cell_type": "markdown",
      "source": [
        "## Sobre o problema - Health Insurance Cost\n",
        "\n",
        "<center><img src=\"https://drive.google.com/uc?export=view&id=1vwwSzYFJxMxSEtPktnq96J6y3H1hAmX0\" width=\"80%\"></p></center>\n",
        "\n",
        "Neste projeto será utilizado um dataset disponivel no Kaggle chamado [Health Insurance Cost Prediction](https://www.kaggle.com/datasets/annetxu/health-insurance-cost-prediction). Nele temos informações sobre pacientes de um plano de saúde e seus respectivos custos médicos. Ele inclui 1338 entradas com 7 variáveis:\n",
        "\n",
        "* `age`: idade do paciente\n",
        "* `sex`: gênero do paciente (masculino ou feminino)\n",
        "* `bmi`: Índice de Massa Corporal (IMC) do paciente\n",
        "* `children`: número de filhos dependentes do paciente\n",
        "* `smoker`: informação se o paciente é fumante ou não\n",
        "* `region`: região dos Estados Unidos em que o paciente reside (nordeste, sudeste, sudoeste ou noroeste)\n",
        "* `charges`: custo médico individual do paciente durante um ano\n",
        "\n",
        "O objetivo do conjunto de dados é prever o custo médico de um paciente com base em suas características pessoais, um problema de regressão, onde a variável alvo é `charges`.\n",
        "\n",
        "Esse conjunto de dados é interessante porque pode ajudar a compreender como as características pessoais de um paciente podem influenciar nos custos médicos. Além disso, ele pode ser utilizado para criar modelos de precificação de seguros de saúde ou para identificar pacientes com alto risco de custos médicos."
      ],
      "metadata": {
        "id": "o8y0adV6kb63"
      }
    },
    {
      "cell_type": "markdown",
      "source": [
        "## Sobre Auto Machine Learning (AutoML)\n",
        "\n",
        "<center><img src=\"https://drive.google.com/uc?export=view&id=1vB46w2YoEmLKSpxqx4aRh2wbZOM_TTk7\" width=\"80%\"></p></center>\n",
        "\n",
        "PyCaret é uma ferramenta de código aberto que visa simplificar o processo de criação de modelos de aprendizado de máquina. Ela fornece uma interface de usuário intuitiva e fácil de usar para realizar tarefas comuns de ciência de dados, como pré-processamento de dados, seleção de recursos, validação cruzada e ajuste de hiperparâmetros.\n",
        "\n",
        "Com o PyCaret, os usuários podem construir rapidamente vários modelos de aprendizado de máquina, desde modelos de regressão e classificação até modelos de clustering e detecção de anomalias. Além disso, a biblioteca inclui recursos como a criação de fluxos de trabalho de ponta a ponta, seleção automática de recursos e explicações de modelo.\n",
        "\n",
        "O PyCaret é construído sobre outras bibliotecas populares de Python para ciência de dados, como Pandas, Scikit-learn, Matplotlib e Seaborn. Ele oferece uma ampla variedade de algoritmos de aprendizado de máquina e permite aos usuários comparar rapidamente o desempenho de diferentes modelos usando métricas comuns, como precisão, recall, AUC-ROC, MSE, RMSE, etc.\n",
        "\n",
        "Em resumo, a biblioteca PyCaret é uma ferramenta útil para cientistas de dados e desenvolvedores que desejam criar rapidamente modelos de aprendizado de máquina e acelerar o processo de experimentação de modelos. É fácil de usar, oferece suporte a muitos algoritmos populares e é frequentemente atualizado com novos recursos e funcionalidades."
      ],
      "metadata": {
        "id": "gS9xu8mMnUXC"
      }
    },
    {
      "cell_type": "code",
      "execution_count": null,
      "metadata": {
        "id": "RmtIQBwyiQLI"
      },
      "outputs": [],
      "source": []
    },
    {
      "cell_type": "markdown",
      "source": [
        "# Data Understanding"
      ],
      "metadata": {
        "id": "Z6DvRddKjvt4"
      }
    },
    {
      "cell_type": "code",
      "source": [],
      "metadata": {
        "id": "tl4WvJfdjwEV"
      },
      "execution_count": null,
      "outputs": []
    },
    {
      "cell_type": "markdown",
      "source": [
        "# Data Preparation"
      ],
      "metadata": {
        "id": "2OpDS9Pcj2kR"
      }
    },
    {
      "cell_type": "code",
      "source": [],
      "metadata": {
        "id": "gx6v3F9Kj3Ax"
      },
      "execution_count": null,
      "outputs": []
    },
    {
      "cell_type": "markdown",
      "source": [
        "# Modeling"
      ],
      "metadata": {
        "id": "7qG9FcrLj8TR"
      }
    },
    {
      "cell_type": "code",
      "source": [],
      "metadata": {
        "id": "Iq6QoyJ9j8wd"
      },
      "execution_count": null,
      "outputs": []
    },
    {
      "cell_type": "markdown",
      "source": [
        "# Evaluation"
      ],
      "metadata": {
        "id": "CVLVKV7CkC1n"
      }
    },
    {
      "cell_type": "code",
      "source": [],
      "metadata": {
        "id": "mosoFI5PkDRB"
      },
      "execution_count": null,
      "outputs": []
    },
    {
      "cell_type": "markdown",
      "source": [
        "# Conclusões"
      ],
      "metadata": {
        "id": "xWbwSNtykIJ-"
      }
    },
    {
      "cell_type": "code",
      "source": [],
      "metadata": {
        "id": "9_ssSg8xkIf8"
      },
      "execution_count": null,
      "outputs": []
    },
    {
      "cell_type": "markdown",
      "source": [
        "# Referências"
      ],
      "metadata": {
        "id": "7hT0QT70kKYC"
      }
    },
    {
      "cell_type": "code",
      "source": [],
      "metadata": {
        "id": "edFByLS3kKwk"
      },
      "execution_count": null,
      "outputs": []
    }
  ]
}